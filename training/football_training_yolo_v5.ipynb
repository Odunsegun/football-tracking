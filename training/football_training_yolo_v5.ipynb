{
 "cells": [
  {
   "cell_type": "code",
   "execution_count": 1,
   "metadata": {},
   "outputs": [
    {
     "name": "stdout",
     "output_type": "stream",
     "text": [
      "Requirement already satisfied: ultralytics in c:\\users\\pc\\python\\computer_vision\\project\\venv-yolov5\\lib\\site-packages (8.3.99)\n",
      "Requirement already satisfied: numpy<=2.1.1,>=1.23.0 in c:\\users\\pc\\python\\computer_vision\\project\\venv-yolov5\\lib\\site-packages (from ultralytics) (2.1.1)\n",
      "Requirement already satisfied: matplotlib>=3.3.0 in c:\\users\\pc\\python\\computer_vision\\project\\venv-yolov5\\lib\\site-packages (from ultralytics) (3.10.1)\n",
      "Requirement already satisfied: opencv-python>=4.6.0 in c:\\users\\pc\\python\\computer_vision\\project\\venv-yolov5\\lib\\site-packages (from ultralytics) (4.11.0.86)\n",
      "Requirement already satisfied: pillow>=7.1.2 in c:\\users\\pc\\python\\computer_vision\\project\\venv-yolov5\\lib\\site-packages (from ultralytics) (11.2.0)\n",
      "Requirement already satisfied: pyyaml>=5.3.1 in c:\\users\\pc\\python\\computer_vision\\project\\venv-yolov5\\lib\\site-packages (from ultralytics) (6.0.2)\n",
      "Requirement already satisfied: requests>=2.23.0 in c:\\users\\pc\\python\\computer_vision\\project\\venv-yolov5\\lib\\site-packages (from ultralytics) (2.32.3)\n",
      "Requirement already satisfied: scipy>=1.4.1 in c:\\users\\pc\\python\\computer_vision\\project\\venv-yolov5\\lib\\site-packages (from ultralytics) (1.15.2)\n",
      "Requirement already satisfied: torch>=1.8.0 in c:\\users\\pc\\python\\computer_vision\\project\\venv-yolov5\\lib\\site-packages (from ultralytics) (2.6.0)\n",
      "Requirement already satisfied: torchvision>=0.9.0 in c:\\users\\pc\\python\\computer_vision\\project\\venv-yolov5\\lib\\site-packages (from ultralytics) (0.21.0)\n",
      "Requirement already satisfied: tqdm>=4.64.0 in c:\\users\\pc\\python\\computer_vision\\project\\venv-yolov5\\lib\\site-packages (from ultralytics) (4.67.1)\n",
      "Requirement already satisfied: psutil in c:\\users\\pc\\python\\computer_vision\\project\\venv-yolov5\\lib\\site-packages (from ultralytics) (7.0.0)\n",
      "Requirement already satisfied: py-cpuinfo in c:\\users\\pc\\python\\computer_vision\\project\\venv-yolov5\\lib\\site-packages (from ultralytics) (9.0.0)\n",
      "Requirement already satisfied: pandas>=1.1.4 in c:\\users\\pc\\python\\computer_vision\\project\\venv-yolov5\\lib\\site-packages (from ultralytics) (2.2.3)\n",
      "Requirement already satisfied: seaborn>=0.11.0 in c:\\users\\pc\\python\\computer_vision\\project\\venv-yolov5\\lib\\site-packages (from ultralytics) (0.13.2)\n",
      "Requirement already satisfied: ultralytics-thop>=2.0.0 in c:\\users\\pc\\python\\computer_vision\\project\\venv-yolov5\\lib\\site-packages (from ultralytics) (2.0.14)\n",
      "Requirement already satisfied: contourpy>=1.0.1 in c:\\users\\pc\\python\\computer_vision\\project\\venv-yolov5\\lib\\site-packages (from matplotlib>=3.3.0->ultralytics) (1.3.1)\n",
      "Requirement already satisfied: cycler>=0.10 in c:\\users\\pc\\python\\computer_vision\\project\\venv-yolov5\\lib\\site-packages (from matplotlib>=3.3.0->ultralytics) (0.12.1)\n",
      "Requirement already satisfied: fonttools>=4.22.0 in c:\\users\\pc\\python\\computer_vision\\project\\venv-yolov5\\lib\\site-packages (from matplotlib>=3.3.0->ultralytics) (4.56.0)\n",
      "Requirement already satisfied: kiwisolver>=1.3.1 in c:\\users\\pc\\python\\computer_vision\\project\\venv-yolov5\\lib\\site-packages (from matplotlib>=3.3.0->ultralytics) (1.4.8)\n",
      "Requirement already satisfied: packaging>=20.0 in c:\\users\\pc\\python\\computer_vision\\project\\venv-yolov5\\lib\\site-packages (from matplotlib>=3.3.0->ultralytics) (24.2)\n",
      "Requirement already satisfied: pyparsing>=2.3.1 in c:\\users\\pc\\python\\computer_vision\\project\\venv-yolov5\\lib\\site-packages (from matplotlib>=3.3.0->ultralytics) (3.2.3)\n",
      "Requirement already satisfied: python-dateutil>=2.7 in c:\\users\\pc\\python\\computer_vision\\project\\venv-yolov5\\lib\\site-packages (from matplotlib>=3.3.0->ultralytics) (2.9.0.post0)\n",
      "Requirement already satisfied: pytz>=2020.1 in c:\\users\\pc\\python\\computer_vision\\project\\venv-yolov5\\lib\\site-packages (from pandas>=1.1.4->ultralytics) (2025.2)\n",
      "Requirement already satisfied: tzdata>=2022.7 in c:\\users\\pc\\python\\computer_vision\\project\\venv-yolov5\\lib\\site-packages (from pandas>=1.1.4->ultralytics) (2025.2)\n",
      "Requirement already satisfied: charset-normalizer<4,>=2 in c:\\users\\pc\\python\\computer_vision\\project\\venv-yolov5\\lib\\site-packages (from requests>=2.23.0->ultralytics) (3.4.1)\n",
      "Requirement already satisfied: idna<4,>=2.5 in c:\\users\\pc\\python\\computer_vision\\project\\venv-yolov5\\lib\\site-packages (from requests>=2.23.0->ultralytics) (3.10)\n",
      "Requirement already satisfied: urllib3<3,>=1.21.1 in c:\\users\\pc\\python\\computer_vision\\project\\venv-yolov5\\lib\\site-packages (from requests>=2.23.0->ultralytics) (2.3.0)\n",
      "Requirement already satisfied: certifi>=2017.4.17 in c:\\users\\pc\\python\\computer_vision\\project\\venv-yolov5\\lib\\site-packages (from requests>=2.23.0->ultralytics) (2025.1.31)\n",
      "Requirement already satisfied: filelock in c:\\users\\pc\\python\\computer_vision\\project\\venv-yolov5\\lib\\site-packages (from torch>=1.8.0->ultralytics) (3.18.0)\n",
      "Requirement already satisfied: typing-extensions>=4.10.0 in c:\\users\\pc\\python\\computer_vision\\project\\venv-yolov5\\lib\\site-packages (from torch>=1.8.0->ultralytics) (4.13.0)\n",
      "Requirement already satisfied: networkx in c:\\users\\pc\\python\\computer_vision\\project\\venv-yolov5\\lib\\site-packages (from torch>=1.8.0->ultralytics) (3.4.2)\n",
      "Requirement already satisfied: jinja2 in c:\\users\\pc\\python\\computer_vision\\project\\venv-yolov5\\lib\\site-packages (from torch>=1.8.0->ultralytics) (3.1.6)\n",
      "Requirement already satisfied: fsspec in c:\\users\\pc\\python\\computer_vision\\project\\venv-yolov5\\lib\\site-packages (from torch>=1.8.0->ultralytics) (2025.3.2)\n",
      "Requirement already satisfied: setuptools in c:\\users\\pc\\python\\computer_vision\\project\\venv-yolov5\\lib\\site-packages (from torch>=1.8.0->ultralytics) (78.1.0)\n",
      "Requirement already satisfied: sympy==1.13.1 in c:\\users\\pc\\python\\computer_vision\\project\\venv-yolov5\\lib\\site-packages (from torch>=1.8.0->ultralytics) (1.13.1)\n",
      "Requirement already satisfied: mpmath<1.4,>=1.1.0 in c:\\users\\pc\\python\\computer_vision\\project\\venv-yolov5\\lib\\site-packages (from sympy==1.13.1->torch>=1.8.0->ultralytics) (1.3.0)\n",
      "Requirement already satisfied: colorama in c:\\users\\pc\\python\\computer_vision\\project\\venv-yolov5\\lib\\site-packages (from tqdm>=4.64.0->ultralytics) (0.4.6)\n",
      "Requirement already satisfied: six>=1.5 in c:\\users\\pc\\python\\computer_vision\\project\\venv-yolov5\\lib\\site-packages (from python-dateutil>=2.7->matplotlib>=3.3.0->ultralytics) (1.17.0)\n",
      "Requirement already satisfied: MarkupSafe>=2.0 in c:\\users\\pc\\python\\computer_vision\\project\\venv-yolov5\\lib\\site-packages (from jinja2->torch>=1.8.0->ultralytics) (3.0.2)\n",
      "Collecting roboflow\n",
      "  Downloading roboflow-1.1.58-py3-none-any.whl.metadata (9.7 kB)\n",
      "Requirement already satisfied: certifi in c:\\users\\pc\\python\\computer_vision\\project\\venv-yolov5\\lib\\site-packages (from roboflow) (2025.1.31)\n",
      "Collecting idna==3.7 (from roboflow)\n",
      "  Downloading idna-3.7-py3-none-any.whl.metadata (9.9 kB)\n",
      "Requirement already satisfied: cycler in c:\\users\\pc\\python\\computer_vision\\project\\venv-yolov5\\lib\\site-packages (from roboflow) (0.12.1)\n",
      "Requirement already satisfied: kiwisolver>=1.3.1 in c:\\users\\pc\\python\\computer_vision\\project\\venv-yolov5\\lib\\site-packages (from roboflow) (1.4.8)\n",
      "Requirement already satisfied: matplotlib in c:\\users\\pc\\python\\computer_vision\\project\\venv-yolov5\\lib\\site-packages (from roboflow) (3.10.1)\n",
      "Requirement already satisfied: numpy>=1.18.5 in c:\\users\\pc\\python\\computer_vision\\project\\venv-yolov5\\lib\\site-packages (from roboflow) (2.1.1)\n",
      "Collecting opencv-python-headless==4.10.0.84 (from roboflow)\n",
      "  Downloading opencv_python_headless-4.10.0.84-cp37-abi3-win_amd64.whl.metadata (20 kB)\n",
      "Requirement already satisfied: Pillow>=7.1.2 in c:\\users\\pc\\python\\computer_vision\\project\\venv-yolov5\\lib\\site-packages (from roboflow) (11.2.0)\n",
      "Collecting pillow-heif>=0.18.0 (from roboflow)\n",
      "  Downloading pillow_heif-0.22.0-cp313-cp313-win_amd64.whl.metadata (9.8 kB)\n",
      "Requirement already satisfied: python-dateutil in c:\\users\\pc\\python\\computer_vision\\project\\venv-yolov5\\lib\\site-packages (from roboflow) (2.9.0.post0)\n",
      "Collecting python-dotenv (from roboflow)\n",
      "  Downloading python_dotenv-1.1.0-py3-none-any.whl.metadata (24 kB)\n",
      "Requirement already satisfied: requests in c:\\users\\pc\\python\\computer_vision\\project\\venv-yolov5\\lib\\site-packages (from roboflow) (2.32.3)\n",
      "Requirement already satisfied: six in c:\\users\\pc\\python\\computer_vision\\project\\venv-yolov5\\lib\\site-packages (from roboflow) (1.17.0)\n",
      "Requirement already satisfied: urllib3>=1.26.6 in c:\\users\\pc\\python\\computer_vision\\project\\venv-yolov5\\lib\\site-packages (from roboflow) (2.3.0)\n",
      "Requirement already satisfied: tqdm>=4.41.0 in c:\\users\\pc\\python\\computer_vision\\project\\venv-yolov5\\lib\\site-packages (from roboflow) (4.67.1)\n",
      "Requirement already satisfied: PyYAML>=5.3.1 in c:\\users\\pc\\python\\computer_vision\\project\\venv-yolov5\\lib\\site-packages (from roboflow) (6.0.2)\n",
      "Collecting requests-toolbelt (from roboflow)\n",
      "  Downloading requests_toolbelt-1.0.0-py2.py3-none-any.whl.metadata (14 kB)\n",
      "Collecting filetype (from roboflow)\n",
      "  Downloading filetype-1.2.0-py2.py3-none-any.whl.metadata (6.5 kB)\n",
      "Requirement already satisfied: colorama in c:\\users\\pc\\python\\computer_vision\\project\\venv-yolov5\\lib\\site-packages (from tqdm>=4.41.0->roboflow) (0.4.6)\n",
      "Requirement already satisfied: contourpy>=1.0.1 in c:\\users\\pc\\python\\computer_vision\\project\\venv-yolov5\\lib\\site-packages (from matplotlib->roboflow) (1.3.1)\n",
      "Requirement already satisfied: fonttools>=4.22.0 in c:\\users\\pc\\python\\computer_vision\\project\\venv-yolov5\\lib\\site-packages (from matplotlib->roboflow) (4.56.0)\n",
      "Requirement already satisfied: packaging>=20.0 in c:\\users\\pc\\python\\computer_vision\\project\\venv-yolov5\\lib\\site-packages (from matplotlib->roboflow) (24.2)\n",
      "Requirement already satisfied: pyparsing>=2.3.1 in c:\\users\\pc\\python\\computer_vision\\project\\venv-yolov5\\lib\\site-packages (from matplotlib->roboflow) (3.2.3)\n",
      "Requirement already satisfied: charset-normalizer<4,>=2 in c:\\users\\pc\\python\\computer_vision\\project\\venv-yolov5\\lib\\site-packages (from requests->roboflow) (3.4.1)\n",
      "Downloading roboflow-1.1.58-py3-none-any.whl (84 kB)\n",
      "Downloading idna-3.7-py3-none-any.whl (66 kB)\n",
      "Downloading opencv_python_headless-4.10.0.84-cp37-abi3-win_amd64.whl (38.8 MB)\n",
      "   ---------------------------------------- 0.0/38.8 MB ? eta -:--:--\n",
      "   -- ------------------------------------- 2.1/38.8 MB 11.6 MB/s eta 0:00:04\n",
      "   ---- ----------------------------------- 3.9/38.8 MB 12.0 MB/s eta 0:00:03\n",
      "   ------- -------------------------------- 7.6/38.8 MB 12.3 MB/s eta 0:00:03\n",
      "   ---------- ----------------------------- 10.2/38.8 MB 12.3 MB/s eta 0:00:03\n",
      "   ------------- -------------------------- 12.8/38.8 MB 12.3 MB/s eta 0:00:03\n",
      "   ---------------- ----------------------- 15.7/38.8 MB 12.4 MB/s eta 0:00:02\n",
      "   ----------------- ---------------------- 16.5/38.8 MB 12.4 MB/s eta 0:00:02\n",
      "   ----------------- ---------------------- 16.5/38.8 MB 12.4 MB/s eta 0:00:02\n",
      "   ----------------- ---------------------- 16.5/38.8 MB 12.4 MB/s eta 0:00:02\n",
      "   ----------------- ---------------------- 16.5/38.8 MB 12.4 MB/s eta 0:00:02\n",
      "   ----------------------- ---------------- 22.5/38.8 MB 9.7 MB/s eta 0:00:02\n",
      "   ------------------------- -------------- 25.2/38.8 MB 9.9 MB/s eta 0:00:02\n",
      "   ---------------------------- ----------- 27.5/38.8 MB 10.1 MB/s eta 0:00:02\n",
      "   ------------------------------- -------- 30.4/38.8 MB 10.3 MB/s eta 0:00:01\n",
      "   ---------------------------------- ----- 33.0/38.8 MB 10.4 MB/s eta 0:00:01\n",
      "   ------------------------------------ --- 35.7/38.8 MB 10.5 MB/s eta 0:00:01\n",
      "   ---------------------------------------  38.5/38.8 MB 10.7 MB/s eta 0:00:01\n",
      "   ---------------------------------------  38.5/38.8 MB 10.7 MB/s eta 0:00:01\n",
      "   ---------------------------------------  38.5/38.8 MB 10.7 MB/s eta 0:00:01\n",
      "   ---------------------------------------  38.5/38.8 MB 10.7 MB/s eta 0:00:01\n",
      "   ---------------------------------------  38.5/38.8 MB 10.7 MB/s eta 0:00:01\n",
      "   ---------------------------------------  38.5/38.8 MB 10.7 MB/s eta 0:00:01\n",
      "   ---------------------------------------  38.5/38.8 MB 10.7 MB/s eta 0:00:01\n",
      "   ---------------------------------------  38.5/38.8 MB 10.7 MB/s eta 0:00:01\n",
      "   ---------------------------------------  38.5/38.8 MB 10.7 MB/s eta 0:00:01\n",
      "   ---------------------------------------  38.5/38.8 MB 10.7 MB/s eta 0:00:01\n",
      "   ---------------------------------------  38.5/38.8 MB 10.7 MB/s eta 0:00:01\n",
      "   ---------------------------------------  38.5/38.8 MB 10.7 MB/s eta 0:00:01\n",
      "   ---------------------------------------  38.5/38.8 MB 10.7 MB/s eta 0:00:01\n",
      "   ---------------------------------------  38.5/38.8 MB 10.7 MB/s eta 0:00:01\n",
      "   ---------------------------------------  38.5/38.8 MB 10.7 MB/s eta 0:00:01\n",
      "   ---------------------------------------  38.5/38.8 MB 10.7 MB/s eta 0:00:01\n",
      "   ---------------------------------------- 38.8/38.8 MB 5.6 MB/s eta 0:00:00\n",
      "Downloading pillow_heif-0.22.0-cp313-cp313-win_amd64.whl (8.6 MB)\n",
      "   ---------------------------------------- 0.0/8.6 MB ? eta -:--:--\n",
      "   ------------ --------------------------- 2.6/8.6 MB 12.3 MB/s eta 0:00:01\n",
      "   ----------------------- ---------------- 5.0/8.6 MB 12.4 MB/s eta 0:00:01\n",
      "   ----------------------------------- ---- 7.6/8.6 MB 12.4 MB/s eta 0:00:01\n",
      "   ---------------------------------------  8.4/8.6 MB 12.5 MB/s eta 0:00:01\n",
      "   ---------------------------------------  8.4/8.6 MB 12.5 MB/s eta 0:00:01\n",
      "   ---------------------------------------  8.4/8.6 MB 12.5 MB/s eta 0:00:01\n",
      "   ---------------------------------------  8.4/8.6 MB 12.5 MB/s eta 0:00:01\n",
      "   ---------------------------------------  8.4/8.6 MB 12.5 MB/s eta 0:00:01\n",
      "   ---------------------------------------  8.4/8.6 MB 12.5 MB/s eta 0:00:01\n",
      "   ---------------------------------------  8.4/8.6 MB 12.5 MB/s eta 0:00:01\n",
      "   ---------------------------------------  8.4/8.6 MB 12.5 MB/s eta 0:00:01\n",
      "   ---------------------------------------  8.4/8.6 MB 12.5 MB/s eta 0:00:01\n",
      "   ---------------------------------------- 8.6/8.6 MB 3.0 MB/s eta 0:00:00\n",
      "Downloading filetype-1.2.0-py2.py3-none-any.whl (19 kB)\n",
      "Downloading python_dotenv-1.1.0-py3-none-any.whl (20 kB)\n",
      "Downloading requests_toolbelt-1.0.0-py2.py3-none-any.whl (54 kB)\n",
      "Installing collected packages: filetype, python-dotenv, pillow-heif, opencv-python-headless, idna, requests-toolbelt, roboflow\n",
      "  Attempting uninstall: idna\n",
      "    Found existing installation: idna 3.10\n",
      "    Uninstalling idna-3.10:\n",
      "      Successfully uninstalled idna-3.10\n",
      "Successfully installed filetype-1.2.0 idna-3.7 opencv-python-headless-4.10.0.84 pillow-heif-0.22.0 python-dotenv-1.1.0 requests-toolbelt-1.0.0 roboflow-1.1.58\n"
     ]
    }
   ],
   "source": [
    "!pip install ultralytics\n",
    "!pip install roboflow"
   ]
  },
  {
   "cell_type": "markdown",
   "metadata": {},
   "source": [
    "# Get Dataset\n"
   ]
  },
  {
   "cell_type": "code",
   "execution_count": 2,
   "metadata": {},
   "outputs": [
    {
     "name": "stdout",
     "output_type": "stream",
     "text": [
      "loading Roboflow workspace...\n",
      "loading Roboflow project...\n"
     ]
    },
    {
     "name": "stderr",
     "output_type": "stream",
     "text": [
      "Downloading Dataset Version Zip in Football-Analyst-v2-4 to yolov5pytorch:: 100%|██████████| 730715/730715 [01:17<00:00, 9481.85it/s] \n"
     ]
    },
    {
     "name": "stdout",
     "output_type": "stream",
     "text": [
      "\n"
     ]
    },
    {
     "name": "stderr",
     "output_type": "stream",
     "text": [
      "Extracting Dataset Version Zip to Football-Analyst-v2-4 in yolov5pytorch:: 100%|██████████| 16836/16836 [01:23<00:00, 201.41it/s]\n"
     ]
    }
   ],
   "source": [
    "\n",
    "\n",
    "from roboflow import Roboflow\n",
    "rf = Roboflow(api_key=\"ZI2IZsEx7hV15DqkhC5j\")\n",
    "project = rf.workspace(\"football-analyst\").project(\"football-analyst-v2\")\n",
    "version = project.version(4)\n",
    "dataset = version.download(\"yolov5\")\n",
    "#class id bounding box(xyxy)\n",
    "                "
   ]
  },
  {
   "cell_type": "code",
   "execution_count": 5,
   "metadata": {},
   "outputs": [
    {
     "data": {
      "text/plain": [
       "'c:\\\\Users\\\\Pc\\\\Python\\\\Computer_Vision\\\\Project\\\\training\\\\Football-Analyst-v2-4'"
      ]
     },
     "execution_count": 5,
     "metadata": {},
     "output_type": "execute_result"
    }
   ],
   "source": [
    "dataset.location"
   ]
  },
  {
   "cell_type": "code",
   "execution_count": null,
   "metadata": {},
   "outputs": [
    {
     "data": {
      "text/plain": [
       "'football-analyst-v2-4/football-analyst-v2/valid'"
      ]
     },
     "execution_count": 6,
     "metadata": {},
     "output_type": "execute_result"
    }
   ],
   "source": [
    "import shutil\n",
    "shutil.move('football-analyst-v2-4/train',\n",
    "            'football-analyst-v2-4/football-analyst-v2-4/train')\n",
    "shutil.move('football-analyst-v2-4/test',\n",
    "            'football-analyst-v2-4/football-analyst-v2-4/test')\n",
    "shutil.move('football-analyst-v2-4/valid',\n",
    "            'football-analyst-v2-4/football-analyst-v2-4/valid')"
   ]
  },
  {
   "cell_type": "markdown",
   "metadata": {},
   "source": [
    "#Training"
   ]
  },
  {
   "cell_type": "code",
   "execution_count": null,
   "metadata": {},
   "outputs": [],
   "source": [
    "!yolo task=detect mode=train model=yolov5x.pt data={dataset.location}/data.yaml epochs=50 imgsz=640"
   ]
  }
 ],
 "metadata": {
  "kernelspec": {
   "display_name": "venv-yolov5",
   "language": "python",
   "name": "python3"
  },
  "language_info": {
   "codemirror_mode": {
    "name": "ipython",
    "version": 3
   },
   "file_extension": ".py",
   "mimetype": "text/x-python",
   "name": "python",
   "nbconvert_exporter": "python",
   "pygments_lexer": "ipython3",
   "version": "3.13.2"
  }
 },
 "nbformat": 4,
 "nbformat_minor": 2
}
