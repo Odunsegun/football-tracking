{
 "cells": [
  {
   "cell_type": "code",
   "execution_count": null,
   "id": "4aa3eff2",
   "metadata": {},
   "outputs": [],
   "source": []
  },
  {
   "cell_type": "code",
   "execution_count": 1,
   "id": "125399f5",
   "metadata": {},
   "outputs": [
    {
     "ename": "ModuleNotFoundError",
     "evalue": "No module named 'sklearn'",
     "output_type": "error",
     "traceback": [
      "\u001b[31m---------------------------------------------------------------------------\u001b[39m",
      "\u001b[31mModuleNotFoundError\u001b[39m                       Traceback (most recent call last)",
      "\u001b[36mCell\u001b[39m\u001b[36m \u001b[39m\u001b[32mIn[1]\u001b[39m\u001b[32m, line 4\u001b[39m\n\u001b[32m      2\u001b[39m \u001b[38;5;28;01mimport\u001b[39;00m\u001b[38;5;250m \u001b[39m\u001b[34;01mmatplotlib\u001b[39;00m\u001b[34;01m.\u001b[39;00m\u001b[34;01mpyplot\u001b[39;00m\u001b[38;5;250m \u001b[39m\u001b[38;5;28;01mas\u001b[39;00m\u001b[38;5;250m \u001b[39m\u001b[34;01mplt\u001b[39;00m\n\u001b[32m      3\u001b[39m \u001b[38;5;28;01mimport\u001b[39;00m\u001b[38;5;250m \u001b[39m\u001b[34;01mnumpy\u001b[39;00m\u001b[38;5;250m \u001b[39m\u001b[38;5;28;01mas\u001b[39;00m\u001b[38;5;250m \u001b[39m\u001b[34;01mnp\u001b[39;00m\n\u001b[32m----> \u001b[39m\u001b[32m4\u001b[39m \u001b[38;5;28;01mfrom\u001b[39;00m\u001b[38;5;250m \u001b[39m\u001b[34;01msklearn\u001b[39;00m\u001b[34;01m.\u001b[39;00m\u001b[34;01mcluster\u001b[39;00m\u001b[38;5;250m \u001b[39m\u001b[38;5;28;01mimport\u001b[39;00m KMeans\n",
      "\u001b[31mModuleNotFoundError\u001b[39m: No module named 'sklearn'"
     ]
    }
   ],
   "source": [
    "import cv2\n",
    "import matplotlib.pyplot as plt\n",
    "import numpy as np\n",
    "from sklearn.cluster import KMeans"
   ]
  },
  {
   "cell_type": "code",
   "execution_count": null,
   "id": "99547e96",
   "metadata": {},
   "outputs": [],
   "source": [
    "image_path = \"../output_videos/cropped_image.jpg\"\n",
    "image = cv2.imread(image_path)\n",
    "image = cv2.cvtColor(image, cv2.COLOR_BGR2RGB)\n"
   ]
  },
  {
   "cell_type": "markdown",
   "id": "5df94b03",
   "metadata": {},
   "source": [
    "#take the top half of the image"
   ]
  },
  {
   "cell_type": "code",
   "execution_count": null,
   "id": "8d29ff16",
   "metadata": {},
   "outputs": [],
   "source": [
    "top_half_image = image[0 : int(image.shape[0]/2), :]\n",
    "plt.imshow(top_half_image)\n",
    "plt.show()\n"
   ]
  },
  {
   "cell_type": "markdown",
   "id": "aec65312",
   "metadata": {},
   "source": [
    "#Cluster the image into two clusters"
   ]
  },
  {
   "cell_type": "code",
   "execution_count": null,
   "id": "dac4a558",
   "metadata": {},
   "outputs": [],
   "source": [
    "#reshape the image into 2d array\n",
    "image_2d = image.reshape(-1,3)\n",
    "\n",
    "#perorm k-means clustering with 2 clusters\n",
    "kmeans = KMeans(n_clusters=2, random_state=0)\n",
    "kmeans.fit(image_2d)\n",
    "\n",
    "#get the cluster labels\n",
    "labels = kmeans.labels_\n",
    "\n",
    "#reshape the labels into the original image shape\n",
    "clustered_image = labels.reshape(image.shape[0], image.shape[1])\n",
    "\n",
    "#Display the clusteed image\n",
    "plt.imshow(clustered_image)\n",
    "plt.show()"
   ]
  },
  {
   "cell_type": "code",
   "execution_count": null,
   "id": "1f0cdafe",
   "metadata": {},
   "outputs": [],
   "source": [
    "corner_clusters = [clustered_image[0,0 ], clustered_image[0, -1], clustered_image[-1, 0], clustered_image[-1, -1]]\n",
    "non_player_cluster = max(set(corner_clusters), key=corner_clusters.count)\n",
    "print(non_player_cluster)"
   ]
  },
  {
   "cell_type": "code",
   "execution_count": null,
   "id": "1c6e3c93",
   "metadata": {},
   "outputs": [],
   "source": [
    "player_cluster = 1 - non_player_cluster\n",
    "print(player_cluster)"
   ]
  },
  {
   "cell_type": "code",
   "execution_count": null,
   "id": "b9631d3d",
   "metadata": {},
   "outputs": [],
   "source": [
    "kmeans.cluster_centers_[player_cluster]"
   ]
  },
  {
   "cell_type": "code",
   "execution_count": null,
   "id": "5e325104",
   "metadata": {},
   "outputs": [],
   "source": [
    "#save cropped iage of a player\n",
    "    for track_id, player in tracks['players'][0].items():\n",
    "        bbox = player['bbox']\n",
    "        frame = video_frames[0]\n",
    "        \n",
    "        #crop bbox from frame\n",
    "        cropped_image = frame[int(bbox[1]):int(bbox[3]), int(bbox[0]):int(bbox[2])]\n",
    "        \n",
    "        #save the cropped image\n",
    "        cv2.imwrite(f'output_videos/cropped_image.jpg', cropped_image)\n",
    "        break"
   ]
  }
 ],
 "metadata": {
  "kernelspec": {
   "display_name": "venv-yolov5",
   "language": "python",
   "name": "python3"
  },
  "language_info": {
   "codemirror_mode": {
    "name": "ipython",
    "version": 3
   },
   "file_extension": ".py",
   "mimetype": "text/x-python",
   "name": "python",
   "nbconvert_exporter": "python",
   "pygments_lexer": "ipython3",
   "version": "3.13.2"
  }
 },
 "nbformat": 4,
 "nbformat_minor": 5
}
